{
 "cells": [
  {
   "cell_type": "markdown",
   "id": "25d7736c-ba17-4aff-b6bb-66eba20fbf4e",
   "metadata": {},
   "source": [
    "# Lab | List, Dict and Set Comprehension"
   ]
  },
  {
   "cell_type": "markdown",
   "id": "7dd3cbde-675a-4b81-92c3-f728846dbe06",
   "metadata": {},
   "source": [
    "## Exercise: Managing Customer Orders Optimized with Comprehension"
   ]
  },
  {
   "cell_type": "markdown",
   "id": "5d500160-2fb7-4777-b5e4-09d45ebaf328",
   "metadata": {},
   "source": [
    "In the previous exercise, you developed a program to manage customer orders and inventory. Now, let's take it a step further and incorporate comprehension into your code.\n",
    "\n",
    "Follow the steps below to complete the exercise:\n",
    "\n",
    "1. Review your code from the previous exercise and identify areas where you can apply comprehension to simplify and streamline your code. \n",
    "\n",
    "    - *Hint: Apply it to initialize inventory, updating the inventory and printing the updated inventory.*\n",
    "    \n",
    "    - For example, in initializing the inventory, we could have:\n",
    "    \n",
    "        ```python\n",
    "        def initialize_inventory(products):\n",
    "            inventory = {product: int(input(f\"Enter the quantity of {product}s available: \")) for product in products}\n",
    "            return inventory\n",
    "\n",
    "        ```\n",
    "<br>\n",
    "    \n",
    "2. Modify the function get_customer_orders so it prompts the user to enter the number of customer orders and gathers the product names using a loop and user input. Use comprehension.\n",
    "\n",
    "3. Add a new function to calculate the total price of the customer order. For each product in customer_orders, prompt the user to enter the price of that product. Use comprehension to calculate the total price. Note: assume that the user can only have 1 unit of each product.\n",
    "\n",
    "4. Modify the update_inventory function to remove the product from the inventory if its quantity becomes zero after fulfilling the customer orders. Use comprehension to filter out the products with a quantity of zero from the inventory.\n",
    "\n",
    "5. Print the total price of the customer order.\n",
    "\n",
    "Your code should produce output similar to the following:\n",
    "\n",
    "```python\n",
    "Enter the quantity of t-shirts available:  5\n",
    "Enter the quantity of mugs available:  4\n",
    "Enter the quantity of hats available:  3\n",
    "Enter the quantity of books available:  2\n",
    "Enter the quantity of keychains available:  1\n",
    "Enter the number of customer orders:  2\n",
    "Enter the name of a product that a customer wants to order:  hat\n",
    "Enter the name of a product that a customer wants to order:  keychain\n",
    "\n",
    "Order Statistics:\n",
    "Total Products Ordered: 2\n",
    "Percentage of Unique Products Ordered: 40.0\n",
    "\n",
    "Updated Inventory:\n",
    "t-shirt: 5\n",
    "mug: 4\n",
    "hat: 2\n",
    "book: 2\n",
    "Enter the price of keychain:  5\n",
    "Enter the price of hat:  10\n",
    "Total Price: 15.0\n",
    "\n",
    "```\n"
   ]
  },
  {
   "cell_type": "markdown",
   "id": "5417eea1-6955-4e74-ae95-56f7288046c0",
   "metadata": {},
   "source": [
    "1. Review your code from the previous exercise and identify areas where you can apply comprehension to simplify and streamline your code. \n",
    "\n",
    "    - *Hint: Apply it to initialize inventory, updating the inventory and printing the updated inventory.*\n",
    "    \n",
    "    - For example, in initializing the inventory, we could have:\n",
    "    \n",
    "        ```python\n",
    "        def initialize_inventory(products):\n",
    "            inventory = {product: int(input(f\"Enter the quantity of {product}s available: \")) for product in products}\n",
    "            return inventory\n",
    "\n",
    "        ```\n",
    "<br>"
   ]
  },
  {
   "cell_type": "code",
   "execution_count": 44,
   "id": "b6df33dc-a353-45ac-8e2a-1aa9d4327f35",
   "metadata": {},
   "outputs": [
    {
     "name": "stdin",
     "output_type": "stream",
     "text": [
      "Enter the quantity of t-shirt available:  5\n",
      "Enter the quantity of mug available:  4\n",
      "Enter the quantity of hat available:  3\n",
      "Enter the quantity of book available:  2\n",
      "Enter the quantity of keychain available:  1\n"
     ]
    },
    {
     "name": "stdout",
     "output_type": "stream",
     "text": [
      "{'t-shirt': 5, 'mug': 4, 'hat': 3, 'book': 2, 'keychain': 1}\n"
     ]
    }
   ],
   "source": [
    "def initialize_inventory(products: list):\n",
    "    \"\"\"\n",
    "    Function: To populate an inventory based on an user input.\n",
    "\n",
    "    Arg:\n",
    "    products [list]: Given list from the online store that sell various products.\n",
    "\n",
    "    Returns:\n",
    "    inventory {dict}: The quantity for each product in products list.\n",
    "    \"\"\"\n",
    "    return {each_product: int(input(f\"Enter the quantity of {each_product} available: \")) for each_product in products}\n",
    "\n",
    "products = [\"t-shirt\", \"mug\", \"hat\", \"book\", \"keychain\"]\n",
    "initial_inventory = initialize_inventory(products)\n",
    "updated_inventory = initial_inventory.copy()\n",
    "print(updated_inventory)"
   ]
  },
  {
   "cell_type": "code",
   "execution_count": 45,
   "id": "841ae4e3-526f-4188-9441-c36d31c769f0",
   "metadata": {},
   "outputs": [],
   "source": [
    "# Mainly used for mapping in structured data (tabular data)\n",
    "\n",
    "initialize_inventory = lambda products: {each_product: int(input(f\"Enter the quantity of {each_product} available: \")) for each_product in products}"
   ]
  },
  {
   "cell_type": "markdown",
   "id": "ead7c10c-d6f0-4478-a380-c18c29aa71f9",
   "metadata": {},
   "source": [
    "2. Modify the function get_customer_orders so it prompts the user to enter the number of customer orders and gathers the product names using a loop and user input. Use comprehension."
   ]
  },
  {
   "cell_type": "code",
   "execution_count": 46,
   "id": "08332b36-576a-4ac9-af7d-e1f5c98fba16",
   "metadata": {},
   "outputs": [
    {
     "name": "stdin",
     "output_type": "stream",
     "text": [
      "How many products you want to shop? 2\n",
      "Enter a valid product to order:  hat\n",
      "Enter a valid product to order:  keychain\n"
     ]
    },
    {
     "data": {
      "text/plain": [
       "{'hat', 'keychain'}"
      ]
     },
     "execution_count": 46,
     "metadata": {},
     "output_type": "execute_result"
    }
   ],
   "source": [
    "def get_customer_orders():\n",
    "    quantity = int(input(\"How many products you want to shop?\"))\n",
    "    return {input(f\"Enter a valid product to order: \") for i in range(quantity)}\n",
    "\n",
    "order = get_customer_orders()\n",
    "order"
   ]
  },
  {
   "cell_type": "markdown",
   "id": "df9d1f84-05fe-4497-94a5-7237b73f48c5",
   "metadata": {},
   "source": [
    "3. Add a new function to calculate the total price of the customer order. For each product in customer_orders, prompt the user to enter the price of that product. Use comprehension to calculate the total price. Note: assume that the user can only have 1 unit of each product."
   ]
  },
  {
   "cell_type": "code",
   "execution_count": 47,
   "id": "8773bb3a-7da6-443b-b023-b0c98c91f518",
   "metadata": {},
   "outputs": [
    {
     "name": "stdin",
     "output_type": "stream",
     "text": [
      "Enter the product price for hat:  5\n",
      "Enter the product price for keychain:  3\n"
     ]
    },
    {
     "data": {
      "text/plain": [
       "8.0"
      ]
     },
     "execution_count": 47,
     "metadata": {},
     "output_type": "execute_result"
    }
   ],
   "source": [
    "def customer_order_total_price(products):\n",
    "    return sum([float(input(f\"Enter the product price for {each_product}: \")) for each_product in products])\n",
    "        \n",
    "order \n",
    "customer_order_total_price(order)"
   ]
  },
  {
   "cell_type": "code",
   "execution_count": 48,
   "id": "f9dbd85f-1afa-4a4b-881e-769cd5ef08bd",
   "metadata": {},
   "outputs": [
    {
     "name": "stdout",
     "output_type": "stream",
     "text": [
      "\n",
      "Order Statistics:\n",
      "Total Products Ordered: 2\n",
      "Percentage of Products Ordered: 40.0 %\n",
      "\n"
     ]
    }
   ],
   "source": [
    "def calculate_order_statistics(products: list, customer_orders:set):\n",
    "    \"\"\"\n",
    "    Function: To calculate the order statistics based on order elements and products.\n",
    "\n",
    "    Args:\n",
    "    products: [list]\n",
    "    customer_orders: {set}\n",
    "\n",
    "    Returns: \n",
    "    order_status (tuple): Total Products Ordered, Percentage of the Ordered Products. \n",
    "    \"\"\"\n",
    "    total_products_ordered = len(customer_orders)\n",
    "    percentage_ordered_products = round(((total_products_ordered / len(products)) * 100), 2)\n",
    "    order_status = (total_products_ordered, percentage_ordered_products)\n",
    "    return order_status\n",
    "\n",
    "order_statistics = calculate_order_statistics(products, order)\n",
    "\n",
    "def print_order_statistics(order_statistics: tuple):\n",
    "    \"\"\"\n",
    "    Function: To print the order statistics based in the customer order following a particular format.\n",
    "\n",
    "    Args:\n",
    "    order_statistics: tuple ()\n",
    "\n",
    "    Returns: \n",
    "    Nothing.  \n",
    "    \"\"\"\n",
    "    print(f\"\\n\"\n",
    "    f\"Order Statistics:\\n\"\n",
    "    f\"Total Products Ordered: {order_statistics[0]}\\n\"\n",
    "    f\"Percentage of Products Ordered: {order_statistics[1]} %\"\n",
    "    f\"\\n\")\n",
    "\n",
    "print_order_statistics(order_statistics)"
   ]
  },
  {
   "cell_type": "markdown",
   "id": "15e27174-1c8e-4bcf-88f8-ef837423aded",
   "metadata": {},
   "source": [
    "4. Modify the update_inventory function to remove the product from the inventory if its quantity becomes zero after fulfilling the customer orders. Use comprehension to filter out the products with a quantity of zero from the inventory."
   ]
  },
  {
   "cell_type": "code",
   "execution_count": 57,
   "id": "5bde41a8-2132-4362-b8fd-a6dcd80350b4",
   "metadata": {},
   "outputs": [],
   "source": [
    "def update_inventory(customer_orders: set, inventory: dict):\n",
    "    \"\"\"\n",
    "    Function: To modify the initial inventory substracting the products ordered by the customer (user input).\n",
    "\n",
    "    Args:\n",
    "    customer_orders {set}\n",
    "    inventory {dict}\n",
    "\n",
    "    Returns:\n",
    "    Updated inventory {dict}: New inventory after the order. \n",
    "    \"\"\"\n",
    "    ...\n",
    "    print(f\"Updated Inventory: \")\n",
    "    for item in customer_orders:\n",
    "        if inventory[item] < 1:\n",
    "            print(f\"Product {item}: Out of Stock\")\n",
    "        else:\n",
    "            inventory[item] -= 1\n",
    "    updated_inventory = {item: quantity for item, quantity in inventory.items() if quantity > 0}\n",
    "    print_updated_inventory(updated_inventory)"
   ]
  },
  {
   "cell_type": "markdown",
   "id": "e3e3c97f-e123-4873-947a-029471ee340b",
   "metadata": {},
   "source": [
    "5. Print the total price of the customer order.\n",
    "\n",
    "Your code should produce output similar to the following:\n",
    "\n",
    "```python\n",
    "Enter the quantity of t-shirts available:  5\n",
    "Enter the quantity of mugs available:  4\n",
    "Enter the quantity of hats available:  3\n",
    "Enter the quantity of books available:  2\n",
    "Enter the quantity of keychains available:  1\n",
    "Enter the number of customer orders:  2\n",
    "Enter the name of a product that a customer wants to order:  hat\n",
    "Enter the name of a product that a customer wants to order:  keychain\n",
    "\n",
    "Order Statistics:\n",
    "Total Products Ordered: 2\n",
    "Percentage of Unique Products Ordered: 40.0\n",
    "\n",
    "Updated Inventory:\n",
    "t-shirt: 5\n",
    "mug: 4\n",
    "hat: 2\n",
    "book: 2\n",
    "Enter the price of keychain:  5\n",
    "Enter the price of hat:  10\n",
    "Total Price: 15.0\n",
    "\n",
    "```"
   ]
  },
  {
   "cell_type": "code",
   "execution_count": 50,
   "id": "0831818e",
   "metadata": {},
   "outputs": [],
   "source": [
    "def print_updated_inventory(inventory: dict):\n",
    "    \"\"\"\n",
    "    Function: To print the updated inventory based in the customer order following a particular format.\n",
    "\n",
    "    Args:\n",
    "    order_statistics: tuple ()\n",
    "\n",
    "    Returns: \n",
    "    Nothing.  \n",
    "    \"\"\"\n",
    "    for key, value in inventory.items():\n",
    "        print(f\"For {key}: {value} items\")"
   ]
  },
  {
   "cell_type": "code",
   "execution_count": 58,
   "id": "b9d4298d",
   "metadata": {},
   "outputs": [
    {
     "name": "stdin",
     "output_type": "stream",
     "text": [
      "Product quantity for t-shirt 5\n",
      "Product quantity for mug 4\n",
      "Product quantity for hat 3\n",
      "Product quantity for book 2\n",
      "Product quantity for keychain 1\n",
      "How many products you want to shop? 2\n",
      "Enter a valid product to order:  hat\n",
      "Enter a valid product to order:  keychain\n"
     ]
    },
    {
     "name": "stdout",
     "output_type": "stream",
     "text": [
      "\n",
      "Order Statistics:\n",
      "Total Products Ordered: 2\n",
      "Percentage of Products Ordered: 40.0 %\n",
      "\n",
      "Updated Inventory: \n",
      "For t-shirt: 5 items\n",
      "For mug: 4 items\n",
      "For hat: 2 items\n",
      "For book: 2 items\n"
     ]
    },
    {
     "name": "stdin",
     "output_type": "stream",
     "text": [
      "Enter the product price for hat:  10\n",
      "Enter the product price for keychain:  5\n"
     ]
    },
    {
     "name": "stdout",
     "output_type": "stream",
     "text": [
      "Total Price: 15.0\n"
     ]
    }
   ],
   "source": [
    "products = [\"t-shirt\", \"mug\", \"hat\", \"book\", \"keychain\"]\n",
    "initial_inventory = initialize_inventory(products)\n",
    "updated_inventory = initial_inventory.copy()\n",
    "initialize_inventory = lambda products: {each_product: int(input(f\"Product quantity for {each_product}\")) for each_product in products}\n",
    "order = get_customer_orders()\n",
    "order_statistics = calculate_order_statistics(products, order)\n",
    "print_order_statistics(order_statistics)\n",
    "update_inventory(order, updated_inventory)\n",
    "total_price = customer_order_total_price(order)\n",
    "print(\"Total Price: \" + str(total_price))"
   ]
  }
 ],
 "metadata": {
  "kernelspec": {
   "display_name": "Python 3 (ipykernel)",
   "language": "python",
   "name": "python3"
  },
  "language_info": {
   "codemirror_mode": {
    "name": "ipython",
    "version": 3
   },
   "file_extension": ".py",
   "mimetype": "text/x-python",
   "name": "python",
   "nbconvert_exporter": "python",
   "pygments_lexer": "ipython3",
   "version": "3.12.3"
  }
 },
 "nbformat": 4,
 "nbformat_minor": 5
}
